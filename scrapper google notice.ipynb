{
 "cells": [
  {
   "cell_type": "code",
   "execution_count": 66,
   "metadata": {
    "collapsed": true
   },
   "outputs": [],
   "source": [
    "import scrapy"
   ]
  },
  {
   "cell_type": "code",
   "execution_count": 82,
   "metadata": {},
   "outputs": [],
   "source": [
    "class GoogleNewsScrapper(scrapy.Spider):\n",
    "    def parse(self, response):\n",
    "        name = 'GoogleNewsScrapper'\n",
    "        theme = 'programming'\n",
    "        lang = ['es','mx']\n",
    "        allowed_url = [\"https://news.google.com/news/search/section/q/programacion/\"+theme+\"?hl=es-419&gl=MX&ned=\"+lang[0]+\"_\"+lang[1]]\n",
    "        titles = response.css(\".nuEeue.hzdq5d.ME7ew::text\").extract()\n",
    "        links = response.css(\".nuEeue.hzdq5d.ME7ew::attr(href)\").extract()\n",
    "        images = response.css(\".lmFAjc::attr(src)\").extract()\n",
    "        created_at = response.css(\".d5kXP.YBZVLb::text\").extract()\n",
    "        created_by = response.css(\".IH8C7b.Pc0Wt::text\").extract()\n",
    "        for item in zip(titles,links,images,created_at,created_by):\n",
    "            scraped_data = {\n",
    "                'title': item[0],\n",
    "                'link': item[1],\n",
    "                'image': item[2],\n",
    "                'created_at': item[3],\n",
    "                'created_by': item[4]\n",
    "            }\n",
    "            yield scraped_info\n",
    "        \n",
    "\n"
   ]
  },
  {
   "cell_type": "code",
   "execution_count": 83,
   "metadata": {},
   "outputs": [
    {
     "data": {
      "text/plain": [
       "__main__.GoogleNewsScrapper"
      ]
     },
     "execution_count": 83,
     "metadata": {},
     "output_type": "execute_result"
    }
   ],
   "source": [
    "GoogleNewsScrapper"
   ]
  },
  {
   "cell_type": "code",
   "execution_count": 81,
   "metadata": {},
   "outputs": [
    {
     "ename": "SyntaxError",
     "evalue": "Missing parentheses in call to 'print' (<ipython-input-81-a1c70974cda4>, line 1)",
     "output_type": "error",
     "traceback": [
      "\u001b[0;36m  File \u001b[0;32m\"<ipython-input-81-a1c70974cda4>\"\u001b[0;36m, line \u001b[0;32m1\u001b[0m\n\u001b[0;31m    print = GoogleNewsScrapper:parse\u001b[0m\n\u001b[0m                              ^\u001b[0m\n\u001b[0;31mSyntaxError\u001b[0m\u001b[0;31m:\u001b[0m Missing parentheses in call to 'print'\n"
     ]
    }
   ],
   "source": []
  },
  {
   "cell_type": "code",
   "execution_count": null,
   "metadata": {
    "collapsed": true
   },
   "outputs": [],
   "source": []
  },
  {
   "cell_type": "code",
   "execution_count": null,
   "metadata": {},
   "outputs": [],
   "source": []
  },
  {
   "cell_type": "code",
   "execution_count": null,
   "metadata": {
    "collapsed": true
   },
   "outputs": [],
   "source": []
  }
 ],
 "metadata": {
  "kernelspec": {
   "display_name": "Python 3",
   "language": "python",
   "name": "python3"
  },
  "language_info": {
   "codemirror_mode": {
    "name": "ipython",
    "version": 3
   },
   "file_extension": ".py",
   "mimetype": "text/x-python",
   "name": "python",
   "nbconvert_exporter": "python",
   "pygments_lexer": "ipython3",
   "version": "3.6.2"
  }
 },
 "nbformat": 4,
 "nbformat_minor": 2
}
